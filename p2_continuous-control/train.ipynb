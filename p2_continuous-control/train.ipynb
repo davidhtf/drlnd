{
 "cells": [
  {
   "cell_type": "code",
   "execution_count": 1,
   "metadata": {},
   "outputs": [],
   "source": [
    "# import required modules\n",
    "import random\n",
    "import torch\n",
    "import numpy as np\n",
    "from collections import deque\n",
    "import matplotlib.pyplot as plt\n",
    "%matplotlib inline"
   ]
  },
  {
   "cell_type": "code",
   "execution_count": 2,
   "metadata": {},
   "outputs": [
    {
     "name": "stderr",
     "output_type": "stream",
     "text": [
      "INFO:unityagents:\n",
      "'Academy' started successfully!\n",
      "Unity Academy name: Academy\n",
      "        Number of Brains: 1\n",
      "        Number of External Brains : 1\n",
      "        Lesson number : 0\n",
      "        Reset Parameters :\n",
      "\t\tgoal_speed -> 1.0\n",
      "\t\tgoal_size -> 5.0\n",
      "Unity brain name: ReacherBrain\n",
      "        Number of Visual Observations (per agent): 0\n",
      "        Vector Observation space type: continuous\n",
      "        Vector Observation space size (per agent): 33\n",
      "        Number of stacked Vector Observation: 1\n",
      "        Vector Action space type: continuous\n",
      "        Vector Action space size (per agent): 4\n",
      "        Vector Action descriptions: , , , \n"
     ]
    }
   ],
   "source": [
    "# import Unity environment and turn off graphic during training\n",
    "from unityagents import UnityEnvironment\n",
    "env = UnityEnvironment(file_name=\"Reacher_Windows_x86_64/Reacher.exe\", no_graphics=True)"
   ]
  },
  {
   "cell_type": "code",
   "execution_count": 3,
   "metadata": {},
   "outputs": [],
   "source": [
    "# initialize environment\n",
    "brain_name = env.brain_names[0]\n",
    "brain = env.brains[brain_name]\n",
    "env_info = env.reset(train_mode=True)[brain_name]"
   ]
  },
  {
   "cell_type": "code",
   "execution_count": 4,
   "metadata": {},
   "outputs": [],
   "source": [
    "# get action size, state size and initial state for training\n",
    "states = env_info.vector_observations\n",
    "state_size = states.shape[1]\n",
    "action_size = brain.vector_action_space_size\n",
    "\n",
    "# initialize agent with action size and action size \n",
    "from ddpg_agent import Agent\n",
    "agent = Agent(state_size=state_size, action_size=action_size, random_seed=2)"
   ]
  },
  {
   "cell_type": "code",
   "execution_count": 5,
   "metadata": {},
   "outputs": [],
   "source": [
    "def ddpg(n_episodes=1500, max_t=1000, print_every=20):\n",
    "\n",
    "    # keep track of the last 100 scores\n",
    "    scores_deque = deque(maxlen=100)\n",
    "    scores = []\n",
    "    \n",
    "    for i_episode in range(1, n_episodes+1):\n",
    "           \n",
    "        # at the beginning of each episode, reset environment, state and score\n",
    "        # set train mode to True during training\n",
    "        env_info = env.reset(train_mode=True)[brain_name]\n",
    "        state = env_info.vector_observations[0]\n",
    "        score = 0\n",
    "        \n",
    "        for t in range(max_t):\n",
    "            \n",
    "            # for each step:\n",
    "            # 1) after observing a state at time t, agent takes action per current policy \n",
    "            # 2) after taking action at time t, agent oberves state and reward at t+1\n",
    "            # 3) agent then adds the \"SARS\" tuple to memory \n",
    "            # 4) at every UPDATE_EVERY steps, agent then randomly select a batch of memory to update \n",
    "            #    parameters of its value fuction and policy function by using by DDPG \n",
    "            \n",
    "            action = agent.act(state)\n",
    "            env_info = env.step(action)[brain_name]\n",
    "            next_state = env_info.vector_observations[0]\n",
    "            reward = env_info.rewards[0]\n",
    "            done = env_info.local_done[0]\n",
    "            agent.step(state, action, reward, next_state, done)\n",
    "           \n",
    "            state = next_state\n",
    "            score += reward\n",
    "            \n",
    "            if done:\n",
    "                break \n",
    "                \n",
    "        scores_deque.append(score)\n",
    "        scores.append(score)\n",
    "                \n",
    "        print('\\rEpisode {}\\tAverage Score: {:.2f}'.format(i_episode, np.mean(scores_deque)), end=\"\")\n",
    "            \n",
    "        if i_episode % print_every == 0:\n",
    "            print('\\rEpisode {}\\tAverage Score: {:.2f}'.format(i_episode, np.mean(scores_deque)))\n",
    "            \n",
    "        # save weights of parameters when average reward (over 100 episodes) reaches at least 30\n",
    "        if np.mean(scores_deque) >= 30.0:\n",
    "            print('\\nEnvironment solved in {:d} episodes!\\tAverage Score: {:.2f}'.format(i_episode, np.mean(scores_deque)))\n",
    "            torch.save(agent.actor_local.state_dict(), 'checkpoint_actor.pth')\n",
    "            torch.save(agent.critic_local.state_dict(), 'checkpoint_critic.pth')\n",
    "            break\n",
    "               \n",
    "    return scores"
   ]
  },
  {
   "cell_type": "code",
   "execution_count": 6,
   "metadata": {},
   "outputs": [
    {
     "name": "stderr",
     "output_type": "stream",
     "text": [
      "c:\\users\\david\\appdata\\local\\continuum\\anaconda3\\envs\\drlnd\\lib\\site-packages\\torch\\nn\\functional.py:995: UserWarning: nn.functional.tanh is deprecated. Use torch.tanh instead.\n",
      "  warnings.warn(\"nn.functional.tanh is deprecated. Use torch.tanh instead.\")\n",
      "C:\\Users\\david\\Documents\\GitHub\\deep-reinforcement-learning\\p2_continuous-control\\ddpg_agent.py:111: UserWarning: torch.nn.utils.clip_grad_norm is now deprecated in favor of torch.nn.utils.clip_grad_norm_.\n",
      "  torch.nn.utils.clip_grad_norm(self.critic_local.parameters(), 1)\n"
     ]
    },
    {
     "name": "stdout",
     "output_type": "stream",
     "text": [
      "Episode 20\tAverage Score: 0.50\n",
      "Episode 40\tAverage Score: 0.57\n",
      "Episode 60\tAverage Score: 0.56\n",
      "Episode 80\tAverage Score: 0.58\n",
      "Episode 100\tAverage Score: 0.72\n",
      "Episode 120\tAverage Score: 0.78\n",
      "Episode 140\tAverage Score: 0.88\n",
      "Episode 160\tAverage Score: 1.06\n",
      "Episode 180\tAverage Score: 1.39\n",
      "Episode 200\tAverage Score: 1.52\n",
      "Episode 220\tAverage Score: 1.82\n",
      "Episode 240\tAverage Score: 2.10\n",
      "Episode 260\tAverage Score: 2.46\n",
      "Episode 280\tAverage Score: 2.67\n",
      "Episode 300\tAverage Score: 3.22\n",
      "Episode 320\tAverage Score: 3.67\n",
      "Episode 340\tAverage Score: 4.21\n",
      "Episode 360\tAverage Score: 4.55\n",
      "Episode 380\tAverage Score: 5.09\n",
      "Episode 400\tAverage Score: 5.29\n",
      "Episode 420\tAverage Score: 6.01\n",
      "Episode 440\tAverage Score: 6.55\n",
      "Episode 460\tAverage Score: 7.15\n",
      "Episode 480\tAverage Score: 7.66\n",
      "Episode 500\tAverage Score: 8.12\n",
      "Episode 520\tAverage Score: 8.20\n",
      "Episode 540\tAverage Score: 8.50\n",
      "Episode 560\tAverage Score: 8.94\n",
      "Episode 580\tAverage Score: 9.25\n",
      "Episode 600\tAverage Score: 9.53\n",
      "Episode 620\tAverage Score: 9.71\n",
      "Episode 640\tAverage Score: 9.921\n",
      "Episode 660\tAverage Score: 10.12\n",
      "Episode 680\tAverage Score: 10.35\n",
      "Episode 700\tAverage Score: 10.50\n",
      "Episode 720\tAverage Score: 10.65\n",
      "Episode 740\tAverage Score: 10.61\n",
      "Episode 760\tAverage Score: 10.66\n",
      "Episode 780\tAverage Score: 10.88\n",
      "Episode 800\tAverage Score: 11.86\n",
      "Episode 820\tAverage Score: 12.69\n",
      "Episode 840\tAverage Score: 13.46\n",
      "Episode 860\tAverage Score: 14.25\n",
      "Episode 880\tAverage Score: 14.46\n",
      "Episode 900\tAverage Score: 14.37\n",
      "Episode 920\tAverage Score: 14.59\n",
      "Episode 940\tAverage Score: 14.97\n",
      "Episode 960\tAverage Score: 15.18\n",
      "Episode 980\tAverage Score: 15.99\n",
      "Episode 1000\tAverage Score: 16.62\n",
      "Episode 1020\tAverage Score: 17.40\n",
      "Episode 1040\tAverage Score: 18.04\n",
      "Episode 1060\tAverage Score: 19.13\n",
      "Episode 1080\tAverage Score: 19.76\n",
      "Episode 1100\tAverage Score: 20.45\n",
      "Episode 1120\tAverage Score: 21.56\n",
      "Episode 1140\tAverage Score: 21.90\n",
      "Episode 1160\tAverage Score: 21.84\n",
      "Episode 1180\tAverage Score: 22.70\n",
      "Episode 1200\tAverage Score: 23.27\n",
      "Episode 1220\tAverage Score: 23.51\n",
      "Episode 1240\tAverage Score: 24.53\n",
      "Episode 1260\tAverage Score: 25.40\n",
      "Episode 1280\tAverage Score: 25.63\n",
      "Episode 1300\tAverage Score: 26.25\n",
      "Episode 1320\tAverage Score: 26.42\n",
      "Episode 1340\tAverage Score: 27.03\n",
      "Episode 1360\tAverage Score: 27.32\n",
      "Episode 1380\tAverage Score: 28.19\n",
      "Episode 1400\tAverage Score: 28.84\n",
      "Episode 1420\tAverage Score: 29.96\n",
      "Episode 1421\tAverage Score: 30.06\n",
      "Environment solved in 1421 episodes!\tAverage Score: 30.06\n"
     ]
    },
    {
     "data": {
      "image/png": "[encoded data removed]",
      "text/plain": [
       "<Figure size 432x288 with 1 Axes>"
      ]
     },
     "metadata": {},
     "output_type": "display_data"
    }
   ],
   "source": [
    "scores = ddpg()\n",
    "\n",
    "fig = plt.figure()\n",
    "ax = fig.add_subplot(111)\n",
    "plt.plot(np.arange(1, len(scores)+1), scores)\n",
    "plt.ylabel('Score')\n",
    "plt.xlabel('Episode #')\n",
    "plt.show()"
   ]
  }
 ],
 "metadata": {
  "kernelspec": {
   "display_name": "Python 3",
   "language": "python",
   "name": "python3"
  },
  "language_info": {
   "codemirror_mode": {
    "name": "ipython",
    "version": 3
   },
   "file_extension": ".py",
   "mimetype": "text/x-python",
   "name": "python",
   "nbconvert_exporter": "python",
   "pygments_lexer": "ipython3",
   "version": "3.6.6"
  }
 },
 "nbformat": 4,
 "nbformat_minor": 2
}
