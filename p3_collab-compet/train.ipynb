{
 "cells": [
  {
   "cell_type": "code",
   "execution_count": 1,
   "metadata": {},
   "outputs": [
    {
     "name": "stderr",
     "output_type": "stream",
     "text": [
      "INFO:unityagents:\n",
      "'Academy' started successfully!\n",
      "Unity Academy name: Academy\n",
      "        Number of Brains: 1\n",
      "        Number of External Brains : 1\n",
      "        Lesson number : 0\n",
      "        Reset Parameters :\n",
      "\t\t\n",
      "Unity brain name: TennisBrain\n",
      "        Number of Visual Observations (per agent): 0\n",
      "        Vector Observation space type: continuous\n",
      "        Vector Observation space size (per agent): 8\n",
      "        Number of stacked Vector Observation: 3\n",
      "        Vector Action space type: continuous\n",
      "        Vector Action space size (per agent): 2\n",
      "        Vector Action descriptions: , \n"
     ]
    }
   ],
   "source": [
    "# import Unity environment and turn off graphic during training\n",
    "from unityagents import UnityEnvironment\n",
    "env = UnityEnvironment(file_name=\"Tennis_Windows_x86_64/Tennis.exe\", no_graphics=True)"
   ]
  },
  {
   "cell_type": "code",
   "execution_count": 2,
   "metadata": {},
   "outputs": [],
   "source": [
    "# import required modules\n",
    "import random\n",
    "import torch\n",
    "import numpy as np\n",
    "from collections import deque\n",
    "import matplotlib.pyplot as plt\n",
    "%matplotlib inline"
   ]
  },
  {
   "cell_type": "code",
   "execution_count": 3,
   "metadata": {},
   "outputs": [],
   "source": [
    "# initialize environment\n",
    "brain_name = env.brain_names[0]\n",
    "brain = env.brains[brain_name]\n",
    "env_info = env.reset(train_mode=True)[brain_name]"
   ]
  },
  {
   "cell_type": "code",
   "execution_count": 4,
   "metadata": {},
   "outputs": [],
   "source": [
    "# get number of agents, action size, state size and initial state for training\n",
    "num_agent = len(env_info.agents)\n",
    "states = env_info.vector_observations\n",
    "state_size = states.shape[1]\n",
    "action_size = brain.vector_action_space_size\n",
    "\n",
    "# initialize the DDPG agents with action size, action size and number of agents \n",
    "from maddpg import MMDDPG\n",
    "m_agents = MMDDPG(state_size, action_size, num_agent, random_seed=0)"
   ]
  },
  {
   "cell_type": "code",
   "execution_count": 5,
   "metadata": {},
   "outputs": [],
   "source": [
    "def maddpg_train(n_episodes=6000, max_t=1000, print_every=100):\n",
    "\n",
    "    # keep track of the last 100 scores\n",
    "    ave_scores_deque_x = deque(maxlen=100)\n",
    "    ave_scores_deque_y = deque(maxlen=100)\n",
    "    max_scores_deque = deque(maxlen=100)\n",
    "    max_scores = []\n",
    "    \n",
    "    last_n_actions_deque = deque(maxlen=100)\n",
    "    \n",
    "    for i_episode in range(1, n_episodes+1):\n",
    "           \n",
    "        # at the beginning of each episode, reset environment, state and score\n",
    "        # set train mode to True during training\n",
    "        env_info = env.reset(train_mode=True)[brain_name]\n",
    "        states = env_info.vector_observations\n",
    "        scores = np.zeros(num_agent)\n",
    "\n",
    "        for t in range(max_t):\n",
    "            \n",
    "            # for each step:\n",
    "            # 1) after observing a state at time t, agent takes action per current policy \n",
    "            # 2) after taking action at time t, agent oberves state and reward at t+1\n",
    "            # 3) agent then adds the \"SARS\" tuple to memory \n",
    "            # 4) at every UPDATE_EVERY steps, agent then randomly select a batch of memory to update \n",
    "            #    parameters of its value fuction and policy function by using by DDPG \n",
    "           \n",
    "            actions = m_agents.act(states)\n",
    "            \n",
    "            env_info = env.step(actions)[brain_name]\n",
    "            \n",
    "            next_states = env_info.vector_observations\n",
    "            rewards = env_info.rewards\n",
    "            dones = env_info.local_done\n",
    "            \n",
    "            m_agents.step(states, actions, rewards, next_states, dones)\n",
    "           \n",
    "            states = next_states\n",
    "            scores += rewards\n",
    "            \n",
    "            if np.any(dones):\n",
    "                break \n",
    "        \n",
    "        ave_scores_deque_x.append(scores[0])\n",
    "        ave_scores_deque_y.append(scores[1])\n",
    "        max_scores_deque.append(scores)\n",
    "        max_scores.append(np.max(scores))\n",
    "            \n",
    "        if i_episode % print_every == 0:\n",
    "            #print(np.mean(max_scores_deque, axis=0))\n",
    "            print('\\rEpisode {}\\tAverage Max Score: {:.4f}\\tBest Max Score: {:.4f}\\tAverage Score by Agent: {:.4f}, {:.4f}'\n",
    "                  .format(i_episode, np.mean(max_scores_deque), np.max(max_scores_deque), np.mean(ave_scores_deque_x), np.mean(ave_scores_deque_y)))\n",
    "            \n",
    "        # save weights of parameters when average reward (over 100 episodes) reaches at least 30\n",
    "        if np.mean(max_scores_deque) >= 0.5:\n",
    "            print('\\nEnvironment solved in {:d} episodes!\\tAverage Score: {:.4f}'.format(i_episode, np.mean(max_scores_deque)))\n",
    "            for i, agent in enumerate(m_agents.agents):\n",
    "                torch.save(agent.actor_local.state_dict(), 'checkpoint_' + str(i) + '_actor.pth')\n",
    "                torch.save(agent.critic_local.state_dict(), 'checkpoint_' + str(i) + '_crtitc.pth')\n",
    "            break\n",
    "               \n",
    "    return max_scores"
   ]
  },
  {
   "cell_type": "code",
   "execution_count": 6,
   "metadata": {},
   "outputs": [
    {
     "name": "stderr",
     "output_type": "stream",
     "text": [
      "C:\\Users\\david\\Documents\\GitHub\\deep-reinforcement-learning\\p3_collab-compet\\maddpg.py:135: UserWarning: torch.nn.utils.clip_grad_norm is now deprecated in favor of torch.nn.utils.clip_grad_norm_.\n",
      "  torch.nn.utils.clip_grad_norm(agent.critic_local.parameters(), 1)\n"
     ]
    },
    {
     "name": "stdout",
     "output_type": "stream",
     "text": [
      "Episode 100\tAverage Max Score: -0.0050\tBest Max Score: 0.0000\tAverage Score by Agent: -0.0035, -0.0065\n",
      "Episode 200\tAverage Max Score: -0.0050\tBest Max Score: 0.0000\tAverage Score by Agent: -0.0050, -0.0050\n",
      "Episode 300\tAverage Max Score: -0.0050\tBest Max Score: 0.0000\tAverage Score by Agent: -0.0038, -0.0062\n",
      "Episode 400\tAverage Max Score: 0.0020\tBest Max Score: 0.2000\tAverage Score by Agent: 0.0014, 0.0026\n",
      "Episode 500\tAverage Max Score: -0.0010\tBest Max Score: 0.1000\tAverage Score by Agent: -0.0031, 0.0011\n",
      "Episode 600\tAverage Max Score: 0.0130\tBest Max Score: 0.1000\tAverage Score by Agent: -0.0055, 0.0315\n",
      "Episode 700\tAverage Max Score: 0.0010\tBest Max Score: 0.1000\tAverage Score by Agent: 0.0026, -0.0006\n",
      "Episode 800\tAverage Max Score: 0.0045\tBest Max Score: 0.2000\tAverage Score by Agent: -0.0003, 0.0093\n",
      "Episode 900\tAverage Max Score: 0.0090\tBest Max Score: 0.1000\tAverage Score by Agent: 0.0051, 0.0129\n",
      "Episode 1000\tAverage Max Score: 0.0245\tBest Max Score: 0.2900\tAverage Score by Agent: 0.0017, 0.0473\n",
      "Episode 1100\tAverage Max Score: 0.0120\tBest Max Score: 0.2000\tAverage Score by Agent: 0.0055, 0.0185\n",
      "Episode 1200\tAverage Max Score: 0.0320\tBest Max Score: 0.2000\tAverage Score by Agent: 0.0560, 0.0080\n",
      "Episode 1300\tAverage Max Score: 0.0425\tBest Max Score: 0.2000\tAverage Score by Agent: 0.0554, 0.0295\n",
      "Episode 1400\tAverage Max Score: 0.0425\tBest Max Score: 0.1000\tAverage Score by Agent: 0.0428, 0.0422\n",
      "Episode 1500\tAverage Max Score: 0.0225\tBest Max Score: 0.1000\tAverage Score by Agent: 0.0079, 0.0371\n",
      "Episode 1600\tAverage Max Score: 0.0375\tBest Max Score: 0.2000\tAverage Score by Agent: 0.0330, 0.0420\n",
      "Episode 1700\tAverage Max Score: 0.0620\tBest Max Score: 0.3000\tAverage Score by Agent: 0.0625, 0.0615\n",
      "Episode 1800\tAverage Max Score: 0.0685\tBest Max Score: 0.4000\tAverage Score by Agent: 0.0681, 0.0689\n",
      "Episode 1900\tAverage Max Score: 0.0955\tBest Max Score: 0.3000\tAverage Score by Agent: 0.1097, 0.0813\n",
      "Episode 2000\tAverage Max Score: 0.0760\tBest Max Score: 0.3000\tAverage Score by Agent: 0.0843, 0.0677\n",
      "Episode 2100\tAverage Max Score: 0.0830\tBest Max Score: 0.3000\tAverage Score by Agent: 0.1059, 0.0600\n",
      "Episode 2200\tAverage Max Score: 0.1085\tBest Max Score: 0.5000\tAverage Score by Agent: 0.1213, 0.0957\n",
      "Episode 2300\tAverage Max Score: 0.2896\tBest Max Score: 2.6000\tAverage Score by Agent: 0.2942, 0.2849\n",
      "\n",
      "Environment solved in 2340 episodes!\tAverage Score: 0.5016\n"
     ]
    },
    {
     "data": {
      "image/png": "[encoded data removed]",
      "text/plain": [
       "<Figure size 432x288 with 1 Axes>"
      ]
     },
     "metadata": {},
     "output_type": "display_data"
    }
   ],
   "source": [
    "scores = maddpg_train()\n",
    "\n",
    "fig = plt.figure()\n",
    "ax = fig.add_subplot(111)\n",
    "plt.plot(np.arange(1, len(scores)+1), scores)\n",
    "plt.ylabel('Score')\n",
    "plt.xlabel('Episode #')\n",
    "plt.show()"
   ]
  },
  {
   "cell_type": "code",
   "execution_count": 7,
   "metadata": {},
   "outputs": [],
   "source": [
    "env.close()"
   ]
  }
 ],
 "metadata": {
  "kernelspec": {
   "display_name": "Python 3",
   "language": "python",
   "name": "python3"
  },
  "language_info": {
   "codemirror_mode": {
    "name": "ipython",
    "version": 3
   },
   "file_extension": ".py",
   "mimetype": "text/x-python",
   "name": "python",
   "nbconvert_exporter": "python",
   "pygments_lexer": "ipython3",
   "version": "3.6.6"
  }
 },
 "nbformat": 4,
 "nbformat_minor": 2
}
